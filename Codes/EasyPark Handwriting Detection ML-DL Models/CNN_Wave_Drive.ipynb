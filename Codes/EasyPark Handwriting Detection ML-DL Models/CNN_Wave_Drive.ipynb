{
  "nbformat": 4,
  "nbformat_minor": 0,
  "metadata": {
    "colab": {
      "provenance": []
    },
    "kernelspec": {
      "name": "python3",
      "display_name": "Python 3"
    },
    "language_info": {
      "name": "python"
    }
  },
  "cells": [
    {
      "cell_type": "code",
      "execution_count": 1,
      "metadata": {
        "id": "pIIqwVjDZqTH"
      },
      "outputs": [],
      "source": [
        "import numpy as np\n",
        "import cv2\n",
        "from tensorflow.keras.layers import Input, Conv2D, BatchNormalization, Dropout, Flatten, Dense, MaxPool2D\n",
        "from tensorflow.keras.models import Model, Sequential\n",
        "from tensorflow.keras.initializers import glorot_uniform\n",
        "from tensorflow.keras.optimizers import Adam, SGD\n",
        "import matplotlib.pyplot as plt\n",
        "from sklearn.metrics import classification_report\n",
        "from tensorflow.keras.preprocessing.image import ImageDataGenerator\n",
        "from sklearn.model_selection import train_test_split\n",
        "from tensorflow.keras.utils import to_categorical\n",
        "from sklearn.preprocessing import LabelEncoder\n",
        "from sklearn.metrics import classification_report, confusion_matrix\n",
        "import seaborn as sns\n",
        "from tensorflow.keras.regularizers import l2\n",
        "import tensorflow as tf\n",
        "import pandas as pd"
      ]
    },
    {
      "cell_type": "markdown",
      "source": [
        "Zip File?"
      ],
      "metadata": {
        "id": "8qvIxBY8Z9Yh"
      }
    },
    {
      "cell_type": "code",
      "source": [
        "# !wget https://cainvas-static.s3.amazonaws.com/media/user_data/cainvas-admin/Parkinson_disease_detection.zip\n",
        "# !unzip -qo Parkinson_disease_detection.zip"
      ],
      "metadata": {
        "id": "GlrRRWoSZ3-Z"
      },
      "execution_count": 2,
      "outputs": []
    },
    {
      "cell_type": "code",
      "source": [
        "from google.colab import drive\n",
        "drive.mount('/content/drive')"
      ],
      "metadata": {
        "colab": {
          "base_uri": "https://localhost:8080/"
        },
        "id": "Fi4n3YXif1GH",
        "outputId": "e1910550-22cf-49ac-f27a-94216fb83383"
      },
      "execution_count": 3,
      "outputs": [
        {
          "output_type": "stream",
          "name": "stdout",
          "text": [
            "Mounted at /content/drive\n"
          ]
        }
      ]
    },
    {
      "cell_type": "code",
      "source": [
        "import os\n",
        "def load_images_from_folder(folder):\n",
        "    images = []\n",
        "    for filename in os.listdir(folder):\n",
        "        img = cv2.imread(os.path.join(folder,filename))\n",
        "        if img is not None:\n",
        "            images.append(img)\n",
        "    return images"
      ],
      "metadata": {
        "id": "8--Pt6DNIIG8"
      },
      "execution_count": 4,
      "outputs": []
    },
    {
      "cell_type": "code",
      "source": [
        "x_train = []\n",
        "y_train = []\n",
        "data_train_healthy = load_images_from_folder('/content/drive/MyDrive/HanddrawnModelDataset/wave/training/healthy')\n",
        "data_train_parkinson = load_images_from_folder('/content/drive/MyDrive/HanddrawnModelDataset/wave/training/parkinson')\n",
        "x_train = data_train_healthy + data_train_parkinson\n",
        "y_train = list(np.zeros(len(data_train_healthy))) + list(np.ones(len(data_train_healthy)))"
      ],
      "metadata": {
        "id": "MaYHrascZ_jH"
      },
      "execution_count": 5,
      "outputs": []
    },
    {
      "cell_type": "code",
      "source": [
        "x_test = []\n",
        "y_test = []\n",
        "data_test_healthy = load_images_from_folder('/content/drive/MyDrive/HanddrawnModelDataset/wave/testing/healthy')\n",
        "data_test_parkinson = load_images_from_folder('/content/drive/MyDrive/HanddrawnModelDataset/wave/testing/parkinson')\n",
        "\n",
        "x_test = data_test_healthy + data_test_parkinson\n",
        "y_test = list(np.zeros(len(data_test_healthy))) + list(np.ones(len(data_test_parkinson)))"
      ],
      "metadata": {
        "id": "mbTClaN0aCGy"
      },
      "execution_count": 6,
      "outputs": []
    },
    {
      "cell_type": "code",
      "source": [
        "unique_train, count = np.unique(y_train, return_counts=True)\n",
        "plt.figure(figsize=(20, 10))\n",
        "sns.barplot(unique_train, count).set_title(\"Number of training images per category:\")\n",
        "plt.show()\n",
        "print(unique_train)"
      ],
      "metadata": {
        "id": "2XWKcJkhaEbE",
        "colab": {
          "base_uri": "https://localhost:8080/",
          "height": 660
        },
        "outputId": "3f0b04c2-bf8f-4cd0-efb9-c815cec16314"
      },
      "execution_count": 7,
      "outputs": [
        {
          "output_type": "stream",
          "name": "stderr",
          "text": [
            "/usr/local/lib/python3.8/dist-packages/seaborn/_decorators.py:36: FutureWarning: Pass the following variables as keyword args: x, y. From version 0.12, the only valid positional argument will be `data`, and passing other arguments without an explicit keyword will result in an error or misinterpretation.\n",
            "  warnings.warn(\n"
          ]
        },
        {
          "output_type": "display_data",
          "data": {
            "text/plain": [
              "<Figure size 1440x720 with 1 Axes>"
            ],
            "image/png": "[encoded data removed]"
          },
          "metadata": {
            "needs_background": "light"
          }
        },
        {
          "output_type": "stream",
          "name": "stdout",
          "text": [
            "[0. 1.]\n"
          ]
        }
      ]
    },
    {
      "cell_type": "code",
      "source": [
        "unique_test, count_test = np.unique(y_test, return_counts=True)\n",
        "plt.figure(figsize=(20, 10))\n",
        "sns.barplot(unique_test, count_test).set_title(\"Number of testing images per category:\")\n",
        "plt.show()"
      ],
      "metadata": {
        "id": "TE5h5HWKaGrr",
        "colab": {
          "base_uri": "https://localhost:8080/",
          "height": 643
        },
        "outputId": "ee73d03f-84f5-4f6d-e251-d0d5f4614eb4"
      },
      "execution_count": 8,
      "outputs": [
        {
          "output_type": "stream",
          "name": "stderr",
          "text": [
            "/usr/local/lib/python3.8/dist-packages/seaborn/_decorators.py:36: FutureWarning: Pass the following variables as keyword args: x, y. From version 0.12, the only valid positional argument will be `data`, and passing other arguments without an explicit keyword will result in an error or misinterpretation.\n",
            "  warnings.warn(\n"
          ]
        },
        {
          "output_type": "display_data",
          "data": {
            "text/plain": [
              "<Figure size 1440x720 with 1 Axes>"
            ],
            "image/png": "[encoded data removed]"
          },
          "metadata": {
            "needs_background": "light"
          }
        }
      ]
    },
    {
      "cell_type": "code",
      "source": [
        "train_data_generator = ImageDataGenerator(rotation_range=360, \n",
        "                                    width_shift_range=0.0, \n",
        "                                    height_shift_range=0.0, \n",
        "#                                     brightness_range=[0.5, 1.5],\n",
        "                                    horizontal_flip=True, \n",
        "                                    vertical_flip=True)\n",
        "\n",
        "x = list(x_train)\n",
        "y = list(y_train)\n",
        "\n",
        "x_aug_train = []\n",
        "y_aug_train = []\n",
        "\n",
        "for (i, v) in enumerate(y):\n",
        "    x_img = x[i]\n",
        "    x_img = np.array(x_img)\n",
        "    x_img = np.expand_dims(x_img, axis=0)\n",
        "    aug_iter = train_data_generator.flow(x_img, batch_size=1, shuffle=True)\n",
        "    for j in range(70):\n",
        "        aug_image = next(aug_iter)[0].astype('uint8')\n",
        "        x_aug_train.append(aug_image)\n",
        "        y_aug_train.append(v)\n",
        "print(len(x_aug_train))\n",
        "print(len(y_aug_train))\n",
        "\n",
        "x_train = x + x_aug_train\n",
        "y_train = y + y_aug_train\n",
        "print(len(x_train))\n",
        "print(len(y_train))\n",
        "\n",
        "test_data_generator = ImageDataGenerator(rotation_range=360, \n",
        "                                    width_shift_range=0.0, \n",
        "                                    height_shift_range=0.0, \n",
        "#                                     brightness_range=[0.5, 1.5],\n",
        "                                    horizontal_flip=True, \n",
        "                                    vertical_flip=True)\n",
        "\n",
        "x = list(x_test)\n",
        "y = list(y_test)\n",
        "\n",
        "x_aug_test = []\n",
        "y_aug_test = []\n",
        "\n",
        "for (i, v) in enumerate(y):\n",
        "    x_img = x[i]\n",
        "    x_img = np.array(x_img)\n",
        "    x_img = np.expand_dims(x_img, axis=0)\n",
        "    aug_iter = test_data_generator.flow(x_img, batch_size=1, shuffle=True)\n",
        "    for j in range(20):\n",
        "        aug_image = next(aug_iter)[0].astype('uint8')\n",
        "        x_aug_test.append(aug_image)\n",
        "        y_aug_test.append(v)\n",
        "print(len(x_aug_test))\n",
        "print(len(y_aug_test))\n",
        "\n",
        "x_test = x + x_aug_test\n",
        "y_test = y + y_aug_test\n",
        "print(len(x_test))\n",
        "print(len(y_test))"
      ],
      "metadata": {
        "id": "x41BQmwpaJC4",
        "colab": {
          "base_uri": "https://localhost:8080/"
        },
        "outputId": "6d683fe2-1ff8-474a-a8b0-131993e5b517"
      },
      "execution_count": 9,
      "outputs": [
        {
          "output_type": "stream",
          "name": "stdout",
          "text": [
            "5040\n",
            "5040\n",
            "5112\n",
            "5112\n",
            "600\n",
            "600\n",
            "630\n",
            "630\n"
          ]
        }
      ]
    },
    {
      "cell_type": "code",
      "source": [
        "#print(y_test)\n",
        "# figure1 = plt.figure(figsize=(5, 5))\n",
        "# idx_healthy = [i for (i, v) in enumerate(y_train) if v=='healthy']\n",
        "# img_healthy = x_train[idx_healthy[-1]]\n",
        "# plt.imshow(img_healthy)\n",
        "# plt.title('Wave Drawing by a Healthy Person')\n",
        "# plt.axis('off')\n",
        "# plt.show()\n",
        "\n",
        "# figure2 = plt.figure(figsize=(5, 5))\n",
        "# idx_parkinson = [i for (i, v) in enumerate(y_train) if v=='parkinson']\n",
        "# img_parkinson = x_train[idx_parkinson[-1]]\n",
        "# plt.imshow(img_parkinson)\n",
        "# plt.title(\"Wave Drawing by a Person having Parkinson's Disease\")\n",
        "# plt.axis('off')\n",
        "# plt.show()\n"
      ],
      "metadata": {
        "id": "66jCwsP-aM-D"
      },
      "execution_count": 10,
      "outputs": []
    },
    {
      "cell_type": "code",
      "source": [
        "# figure1 = plt.figure(figsize=(5, 5))\n",
        "# idx_healthy = [i for (i, v) in enumerate(y_test) if v=='healthy']\n",
        "# img_healthy = x_test[idx_healthy[-1]]\n",
        "# plt.imshow(img_healthy)\n",
        "# plt.title('Wave Drawing by a Healthy Person')\n",
        "# plt.axis('off')\n",
        "# plt.show()\n",
        "\n",
        "# figure2 = plt.figure(figsize=(5, 5))\n",
        "# idx_parkinson = [i for (i, v) in enumerate(y_test) if v=='parkinson']\n",
        "# img_parkinson = x_test[idx_parkinson[-1]]\n",
        "# plt.imshow(img_parkinson)\n",
        "# plt.title(\"Wave Drawing by a Person having Parkinson's Disease\")\n",
        "# plt.axis('off')\n",
        "# plt.show()"
      ],
      "metadata": {
        "id": "_-s8wlndaPv8"
      },
      "execution_count": 11,
      "outputs": []
    },
    {
      "cell_type": "code",
      "source": [
        "for i in range(len(x_train)):\n",
        "    img = x_train[i]\n",
        "    img = cv2.resize(img, (128, 128))\n",
        "    img = cv2.cvtColor(img, cv2.COLOR_BGR2GRAY)\n",
        "    x_train[i] = img\n",
        "    \n",
        "for i in range(len(x_test)):\n",
        "    img = x_test[i]\n",
        "    img = cv2.resize(img, (128, 128))\n",
        "    img = cv2.cvtColor(img, cv2.COLOR_BGR2GRAY)\n",
        "    x_test[i] = img\n",
        "\n",
        "x_train = np.array(x_train)\n",
        "x_test = np.array(x_test)\n",
        "\n",
        "x_train = x_train/255.0\n",
        "x_test = x_test/255.0\n",
        "\n",
        "label_encoder = LabelEncoder()\n",
        "y_train = label_encoder.fit_transform(y_train)\n",
        "print(y_train.shape)\n",
        "\n",
        "label_encoder = LabelEncoder()\n",
        "y_test = label_encoder.fit_transform(y_test)\n",
        "print(y_test.shape)"
      ],
      "metadata": {
        "id": "x3TENkUvaSHU",
        "colab": {
          "base_uri": "https://localhost:8080/"
        },
        "outputId": "ec1ddf27-0e86-4f3f-f4ab-23d0860982d9"
      },
      "execution_count": 12,
      "outputs": [
        {
          "output_type": "stream",
          "name": "stdout",
          "text": [
            "(5112,)\n",
            "(630,)\n"
          ]
        }
      ]
    },
    {
      "cell_type": "code",
      "source": [
        "unique_train, count = np.unique(y_train, return_counts=True)\n",
        "plt.figure(figsize=(20, 10))\n",
        "sns.barplot(unique_train, count).set_title(\"Number of training images per category after augmentation:\")\n",
        "plt.show()"
      ],
      "metadata": {
        "id": "Ey3zXeL2aU2x",
        "colab": {
          "base_uri": "https://localhost:8080/",
          "height": 637
        },
        "outputId": "b444df13-10ed-4876-ba28-4dbb6ef45d4f"
      },
      "execution_count": 13,
      "outputs": [
        {
          "output_type": "stream",
          "name": "stderr",
          "text": [
            "/usr/local/lib/python3.8/dist-packages/seaborn/_decorators.py:36: FutureWarning: Pass the following variables as keyword args: x, y. From version 0.12, the only valid positional argument will be `data`, and passing other arguments without an explicit keyword will result in an error or misinterpretation.\n",
            "  warnings.warn(\n"
          ]
        },
        {
          "output_type": "display_data",
          "data": {
            "text/plain": [
              "<Figure size 1440x720 with 1 Axes>"
            ],
            "image/png": "[encoded data removed]"
          },
          "metadata": {
            "needs_background": "light"
          }
        }
      ]
    },
    {
      "cell_type": "code",
      "source": [
        "unique_test, count_test = np.unique(y_test, return_counts=True)\n",
        "plt.figure(figsize=(20, 10))\n",
        "sns.barplot(unique_test, count_test).set_title(\"Number of test set images per category after augmentation:\")\n",
        "plt.show()"
      ],
      "metadata": {
        "id": "ND2vlcvCaW2f",
        "colab": {
          "base_uri": "https://localhost:8080/",
          "height": 640
        },
        "outputId": "29f9129f-e205-4177-ee33-b646212d7dc1"
      },
      "execution_count": 14,
      "outputs": [
        {
          "output_type": "stream",
          "name": "stderr",
          "text": [
            "/usr/local/lib/python3.8/dist-packages/seaborn/_decorators.py:36: FutureWarning: Pass the following variables as keyword args: x, y. From version 0.12, the only valid positional argument will be `data`, and passing other arguments without an explicit keyword will result in an error or misinterpretation.\n",
            "  warnings.warn(\n"
          ]
        },
        {
          "output_type": "display_data",
          "data": {
            "text/plain": [
              "<Figure size 1440x720 with 1 Axes>"
            ],
            "image/png": "[encoded data removed]"
          },
          "metadata": {
            "needs_background": "light"
          }
        }
      ]
    },
    {
      "cell_type": "code",
      "source": [
        "y_train = to_categorical(y_train)\n",
        "y_test = to_categorical(y_test)\n",
        "\n",
        "x_train = np.expand_dims(x_train, axis=-1)\n",
        "x_test = np.expand_dims(x_test, axis=-1)\n",
        "\n",
        "print(x_train.shape)\n",
        "print(y_train.shape)\n",
        "print(x_test.shape)\n",
        "print(y_test.shape)"
      ],
      "metadata": {
        "id": "-USxVvICaY5g",
        "colab": {
          "base_uri": "https://localhost:8080/"
        },
        "outputId": "e650a7f6-082a-4f8d-9a3e-3999bea85778"
      },
      "execution_count": 15,
      "outputs": [
        {
          "output_type": "stream",
          "name": "stdout",
          "text": [
            "(5112, 128, 128, 1)\n",
            "(5112, 2)\n",
            "(630, 128, 128, 1)\n",
            "(630, 2)\n"
          ]
        }
      ]
    },
    {
      "cell_type": "code",
      "source": [
        "def parkinson_disease_detection_model(input_shape=(128, 128, 1)):\n",
        "    regularizer = tf.keras.regularizers.l2(0.001)\n",
        "    model = Sequential()\n",
        "    model.add(Input(shape=input_shape))\n",
        "    model.add(Conv2D(128, (5, 5), padding='same', strides=(1, 1), name='conv1', activation='relu', \n",
        "                     kernel_initializer='glorot_uniform', kernel_regularizer=regularizer))\n",
        "    model.add(MaxPool2D((9, 9), strides=(3, 3)))\n",
        "\n",
        "    model.add(Conv2D(64, (5, 5), padding='same', strides=(1, 1), name='conv2', activation='relu', \n",
        "                     kernel_initializer='glorot_uniform', kernel_regularizer=regularizer))\n",
        "    model.add(MaxPool2D((7, 7), strides=(3, 3)))\n",
        "    \n",
        "    model.add(Conv2D(32, (3, 3), padding='same', strides=(1, 1), name='conv3', activation='relu', \n",
        "                     kernel_initializer='glorot_uniform', kernel_regularizer=regularizer))\n",
        "    model.add(MaxPool2D((5, 5), strides=(2, 2)))\n",
        "\n",
        "    model.add(Conv2D(32, (3, 3), padding='same', strides=(1, 1), name='conv4', activation='relu', \n",
        "                     kernel_initializer='glorot_uniform', kernel_regularizer=regularizer))\n",
        "    model.add(MaxPool2D((3, 3), strides=(2, 2)))    \n",
        "    \n",
        "    model.add(Flatten())\n",
        "    model.add(Dropout(0.5))\n",
        "    model.add(Dense(64, activation='relu', kernel_initializer='glorot_uniform', name='fc1'))\n",
        "    model.add(Dropout(0.5))\n",
        "    model.add(Dense(2, activation='softmax', kernel_initializer='glorot_uniform', name='fc3'))\n",
        "    \n",
        "    optimizer = Adam(3.15e-5)\n",
        "    model.compile(optimizer=optimizer, loss='categorical_crossentropy', metrics=['accuracy'])\n",
        "    return model"
      ],
      "metadata": {
        "id": "etKFjnc8abDj"
      },
      "execution_count": 16,
      "outputs": []
    },
    {
      "cell_type": "code",
      "source": [
        "model= parkinson_disease_detection_model(input_shape=(128, 128, 1))\n",
        "model.summary()"
      ],
      "metadata": {
        "id": "3igsu5TQad6Q",
        "colab": {
          "base_uri": "https://localhost:8080/"
        },
        "outputId": "2c066eac-6aa3-46f4-fd66-823b4dd89b78"
      },
      "execution_count": 17,
      "outputs": [
        {
          "output_type": "stream",
          "name": "stdout",
          "text": [
            "Model: \"sequential\"\n",
            "_________________________________________________________________\n",
            " Layer (type)                Output Shape              Param #   \n",
            "=================================================================\n",
            " conv1 (Conv2D)              (None, 128, 128, 128)     3328      \n",
            "                                                                 \n",
            " max_pooling2d (MaxPooling2D  (None, 40, 40, 128)      0         \n",
            " )                                                               \n",
            "                                                                 \n",
            " conv2 (Conv2D)              (None, 40, 40, 64)        204864    \n",
            "                                                                 \n",
            " max_pooling2d_1 (MaxPooling  (None, 12, 12, 64)       0         \n",
            " 2D)                                                             \n",
            "                                                                 \n",
            " conv3 (Conv2D)              (None, 12, 12, 32)        18464     \n",
            "                                                                 \n",
            " max_pooling2d_2 (MaxPooling  (None, 4, 4, 32)         0         \n",
            " 2D)                                                             \n",
            "                                                                 \n",
            " conv4 (Conv2D)              (None, 4, 4, 32)          9248      \n",
            "                                                                 \n",
            " max_pooling2d_3 (MaxPooling  (None, 1, 1, 32)         0         \n",
            " 2D)                                                             \n",
            "                                                                 \n",
            " flatten (Flatten)           (None, 32)                0         \n",
            "                                                                 \n",
            " dropout (Dropout)           (None, 32)                0         \n",
            "                                                                 \n",
            " fc1 (Dense)                 (None, 64)                2112      \n",
            "                                                                 \n",
            " dropout_1 (Dropout)         (None, 64)                0         \n",
            "                                                                 \n",
            " fc3 (Dense)                 (None, 2)                 130       \n",
            "                                                                 \n",
            "=================================================================\n",
            "Total params: 238,146\n",
            "Trainable params: 238,146\n",
            "Non-trainable params: 0\n",
            "_________________________________________________________________\n"
          ]
        }
      ]
    },
    {
      "cell_type": "code",
      "source": [
        "hist = model.fit(x_train, y_train, batch_size=128, epochs=70, validation_data=(x_test, y_test))"
      ],
      "metadata": {
        "id": "9yp7Qj70agJb",
        "colab": {
          "base_uri": "https://localhost:8080/"
        },
        "outputId": "30775783-ab89-4edf-ee2f-8de15b250576"
      },
      "execution_count": null,
      "outputs": [
        {
          "output_type": "stream",
          "name": "stdout",
          "text": [
            "Epoch 1/70\n",
            "40/40 [==============================] - 612s 15s/step - loss: 0.8533 - accuracy: 0.5061 - val_loss: 0.8483 - val_accuracy: 0.5048\n",
            "Epoch 2/70\n",
            "40/40 [==============================] - 615s 15s/step - loss: 0.8457 - accuracy: 0.5072 - val_loss: 0.8415 - val_accuracy: 0.5016\n",
            "Epoch 3/70\n",
            "40/40 [==============================] - 612s 15s/step - loss: 0.8397 - accuracy: 0.4963 - val_loss: 0.8354 - val_accuracy: 0.5000\n",
            "Epoch 4/70\n",
            "40/40 [==============================] - 617s 15s/step - loss: 0.8331 - accuracy: 0.5076 - val_loss: 0.8294 - val_accuracy: 0.5286\n",
            "Epoch 5/70\n",
            "40/40 [==============================] - 614s 15s/step - loss: 0.8281 - accuracy: 0.5045 - val_loss: 0.8238 - val_accuracy: 0.5302\n",
            "Epoch 6/70\n",
            "40/40 [==============================] - 614s 15s/step - loss: 0.8219 - accuracy: 0.5164 - val_loss: 0.8183 - val_accuracy: 0.5302\n",
            "Epoch 7/70\n",
            "40/40 [==============================] - 615s 15s/step - loss: 0.8169 - accuracy: 0.5131 - val_loss: 0.8139 - val_accuracy: 0.5460\n",
            "Epoch 8/70\n",
            "40/40 [==============================] - 615s 15s/step - loss: 0.8127 - accuracy: 0.5137 - val_loss: 0.8089 - val_accuracy: 0.5381\n",
            "Epoch 9/70\n",
            "13/40 [========>.....................] - ETA: 6:46 - loss: 0.8094 - accuracy: 0.5186"
          ]
        }
      ]
    },
    {
      "cell_type": "code",
      "source": [
        "figure = plt.figure(figsize=(10, 10))\n",
        "plt.plot(hist.history['accuracy'], label='Train_accuracy')\n",
        "plt.plot(hist.history['val_accuracy'], label='Test_accuracy')\n",
        "plt.title('Model Accuracy')\n",
        "plt.xlabel('Epochs')\n",
        "plt.ylabel('Accuracy')\n",
        "plt.legend(loc=\"upper left\")\n",
        "plt.show()\n",
        "\n",
        "figure2 = plt.figure(figsize=(10, 10))\n",
        "plt.plot(hist.history['loss'], label='Train_loss')\n",
        "plt.plot(hist.history['val_loss'], label='Test_loss')\n",
        "plt.title('Model Loss')\n",
        "plt.xlabel('Epochs')\n",
        "plt.ylabel('Loss')\n",
        "plt.legend(loc=\"upper left\")\n",
        "plt.show()"
      ],
      "metadata": {
        "id": "QchudmCNaiTH"
      },
      "execution_count": null,
      "outputs": []
    },
    {
      "cell_type": "code",
      "source": [
        "ypred = model.predict(x_test)\n",
        "ypred = np.argmax(ypred, axis=1)\n",
        "y_test_pred = np.argmax(y_test, axis=1)\n",
        "print(classification_report(y_test_pred, ypred))"
      ],
      "metadata": {
        "id": "jdfPCLo7alA9"
      },
      "execution_count": null,
      "outputs": []
    },
    {
      "cell_type": "code",
      "source": [
        "matrix = confusion_matrix(y_test_pred, ypred)\n",
        "df_cm = pd.DataFrame(matrix, index=[0, 1], columns=[0, 1])\n",
        "figure = plt.figure(figsize=(5, 5))\n",
        "sns.heatmap(df_cm, annot=True, fmt='d')"
      ],
      "metadata": {
        "id": "5DbQmOMRapg1"
      },
      "execution_count": null,
      "outputs": []
    },
    {
      "cell_type": "code",
      "source": [
        "model.save('parkinson_disease_detection.h5')"
      ],
      "metadata": {
        "id": "RpnBy5y-arXp"
      },
      "execution_count": null,
      "outputs": []
    },
    {
      "cell_type": "code",
      "source": [
        "labels = ['Healthy', 'Parkinson']\n",
        "image_healthy = cv2.imread('Parkinson_disease_detection/test_image_healthy.png')\n",
        "image_parkinson = cv2.imread('Parkinson_disease_detection/test_image_parkinson.png')\n",
        "\n",
        "image_healthy = cv2.resize(image_healthy, (128, 128))\n",
        "image_healthy = cv2.cvtColor(image_healthy, cv2.COLOR_BGR2GRAY)\n",
        "image_healthy = np.array(image_healthy)\n",
        "image_healthy = np.expand_dims(image_healthy, axis=0)\n",
        "image_healthy = np.expand_dims(image_healthy, axis=-1)\n",
        "\n",
        "image_parkinson = cv2.resize(image_parkinson, (128, 128))\n",
        "image_parkinson = cv2.cvtColor(image_parkinson, cv2.COLOR_BGR2GRAY)\n",
        "image_parkinson = np.array(image_parkinson)\n",
        "image_parkinson = np.expand_dims(image_parkinson, axis=0)\n",
        "image_parkinson = np.expand_dims(image_parkinson, axis=-1)"
      ],
      "metadata": {
        "id": "-fkciwuzatO_"
      },
      "execution_count": null,
      "outputs": []
    },
    {
      "cell_type": "code",
      "source": [
        "ypred_healthy = model.predict(image_healthy)\n",
        "ypred_parkinson = model.predict(image_parkinson)"
      ],
      "metadata": {
        "id": "3xNXOEXvavue"
      },
      "execution_count": null,
      "outputs": []
    },
    {
      "cell_type": "code",
      "source": [
        "figure = plt.figure(figsize=(2, 2))\n",
        "img_healthy = np.squeeze(image_healthy, axis=0)\n",
        "plt.imshow(img_healthy)\n",
        "plt.axis('off')\n",
        "plt.title(f'Prediction by the model: {labels[np.argmax(ypred_healthy[0], axis=0)]}')\n",
        "plt.show()"
      ],
      "metadata": {
        "id": "CgE9Hq2waxoZ"
      },
      "execution_count": null,
      "outputs": []
    },
    {
      "cell_type": "code",
      "source": [
        "figure = plt.figure(figsize=(2, 2))\n",
        "image_parkinson = np.squeeze(image_parkinson, axis=0)\n",
        "plt.imshow(image_parkinson)\n",
        "plt.axis('off')\n",
        "plt.title(f'Prediction by the model: {labels[np.argmax(ypred_parkinson[0], axis=0)]}')\n",
        "plt.show()"
      ],
      "metadata": {
        "id": "b4bdPotDazaT"
      },
      "execution_count": null,
      "outputs": []
    },
    {
      "cell_type": "code",
      "source": [
        "!deepCC parkinson_disease_detection.h5"
      ],
      "metadata": {
        "id": "u8mFgX0Da1TX"
      },
      "execution_count": null,
      "outputs": []
    }
  ]
}